{
 "cells": [
  {
   "cell_type": "code",
   "execution_count": 1,
   "metadata": {},
   "outputs": [],
   "source": [
    "from selenium import webdriver\n",
    "from bs4 import BeautifulSoup as bs\n",
    "from selenium.webdriver import Chrome   \n",
    "from selenium.webdriver.common.keys import Keys\n",
    "import pandas as pd\n",
    "import time\n",
    "import re\n",
    "import requests\n",
    "import urllib.request #\n",
    "import datetime as dt"
   ]
  },
  {
   "cell_type": "code",
   "execution_count": 2,
   "metadata": {},
   "outputs": [],
   "source": [
    "driver = webdriver.Chrome('./chromedriver.exe')\n",
    "driver.implicitly_wait(2)"
   ]
  },
  {
   "cell_type": "code",
   "execution_count": 3,
   "metadata": {},
   "outputs": [],
   "source": [
    "driver.get(\"https://www.youtube.com/\")\n",
    "driver.implicitly_wait(2)"
   ]
  },
  {
   "cell_type": "code",
   "execution_count": 4,
   "metadata": {},
   "outputs": [],
   "source": [
    "input_element = driver.find_element_by_name(\"search_query\")\n",
    "input_element.send_keys(\"LG유플러스\")\n",
    "input_element.submit()\n",
    "driver.implicitly_wait(2)"
   ]
  },
  {
   "cell_type": "code",
   "execution_count": 5,
   "metadata": {},
   "outputs": [],
   "source": [
    "driver.find_element_by_id(\"avatar-section\").click()\n",
    "driver.implicitly_wait(2)"
   ]
  },
  {
   "cell_type": "code",
   "execution_count": 6,
   "metadata": {},
   "outputs": [],
   "source": [
    "driver.find_element_by_xpath('//*[@id=\"tabsContent\"]/paper-tab[2]/div').click()\n",
    "driver.implicitly_wait(2)"
   ]
  },
  {
   "cell_type": "code",
   "execution_count": 7,
   "metadata": {
    "tags": []
   },
   "outputs": [
    {
     "output_type": "stream",
     "name": "stdout",
     "text": "https://www.youtube.com/c/lguplus/videos\n"
    }
   ],
   "source": [
    "target_url = driver.current_url\n",
    "print(driver.current_url)"
   ]
  },
  {
   "cell_type": "code",
   "execution_count": 8,
   "metadata": {},
   "outputs": [],
   "source": [
    "#tabsContent > paper-tab.style-scope.ytd-c4-tabbed-header-renderer.iron-selected\n",
    "num_of_pagedowns = 20 #page_down은 2로 놔도 괜찮을 듯 최대화 했으므로\n",
    "body = driver.find_element_by_tag_name('body')\n",
    "while num_of_pagedowns:\n",
    "    body.send_keys(Keys.END)\n",
    "    time.sleep(3) #스크롤 속도를 지정할 수 있는 것인데  1.5초가 가장 적당할 듯 1초면 너무 빠름\n",
    "    #현재는 스크롤을 7번만 하도록 설정되어 있으나 이후에 댓글을 크롤링하기 위해서는 스크롤을 댓글이 안보\n",
    "    #일때까지 내리면 될텐데 시간이 엄청 오래 걸릴 것임 - 따라서 적당한 수준의 댓글을 크롤링하는것이 좋음\n",
    "    #오오 멋진 분석임\n",
    "    num_of_pagedowns -= 1"
   ]
  },
  {
   "cell_type": "code",
   "execution_count": 9,
   "metadata": {
    "tags": []
   },
   "outputs": [
    {
     "output_type": "stream",
     "name": "stdout",
     "text": "625\n"
    }
   ],
   "source": [
    "page = driver.page_source\n",
    "soup = bs(page, 'lxml')\n",
    "all_videos = soup.find_all(id='dismissable')\n",
    "print(len(all_videos))"
   ]
  },
  {
   "cell_type": "code",
   "execution_count": 10,
   "metadata": {
    "collapsed": true,
    "jupyter": {
     "outputs_hidden": true
    }
   },
   "outputs": [
    {
     "output_type": "error",
     "ename": "SyntaxError",
     "evalue": "invalid syntax (<ipython-input-10-693d7b8fd91c>, line 6)",
     "traceback": [
      "\u001b[1;36m  File \u001b[1;32m\"<ipython-input-10-693d7b8fd91c>\"\u001b[1;36m, line \u001b[1;32m6\u001b[0m\n\u001b[1;33m    if video.find()\u001b[0m\n\u001b[1;37m                   ^\u001b[0m\n\u001b[1;31mSyntaxError\u001b[0m\u001b[1;31m:\u001b[0m invalid syntax\n"
     ]
    }
   ],
   "source": [
    "title_list = []\n",
    "for video in all_videos:\n",
    "    title = video.find(id='video-title')\n",
    "    if len(title.text.strip())>0:\n",
    "        title_list.append(title.text)\n",
    "    if video.find()\n",
    "\n",
    "print(len(title_list))\n",
    "print(title_list)"
   ]
  },
  {
   "cell_type": "code",
   "execution_count": 11,
   "metadata": {
    "jupyter": {
     "source_hidden": true
    }
   },
   "outputs": [
    {
     "output_type": "error",
     "ename": "SyntaxError",
     "evalue": "EOL while scanning string literal (<ipython-input-11-9796e53801a9>, line 1)",
     "traceback": [
      "\u001b[1;36m  File \u001b[1;32m\"<ipython-input-11-9796e53801a9>\"\u001b[1;36m, line \u001b[1;32m1\u001b[0m\n\u001b[1;33m    brands = ['코웨이,\u001b[0m\n\u001b[1;37m                   ^\u001b[0m\n\u001b[1;31mSyntaxError\u001b[0m\u001b[1;31m:\u001b[0m EOL while scanning string literal\n"
     ]
    }
   ],
   "source": [
    "brands = ['코웨이,\n",
    ",'BC카드'\n",
    ",'에이프릴스킨'\n",
    ",'제주항공'\n",
    ",'CJ그룹'\n",
    ",'유세린'\n",
    ",'엘페이'\n",
    ",'일렉트로룩스'\n",
    ",'코카콜라'\n",
    ",'한율'\n",
    ",'네스카페'\n",
    ",'쿠빙스'\n",
    ",'위메프'\n",
    ",'배스킨라빈스'\n",
    ",'쏘카'\n",
    ",'한국화이자제약'\n",
    ",'토니모리'\n",
    ",'한화그룹'\n",
    ",'미니'\n",
    ",'롯데푸드'\n",
    ",'삼성화재',\n",
    "'니베아', '컴투스', '아큐브', '엔씨소프트', '삼성생명', '삼성카드', '레킷벤키저', '신한카드', '호텔스닷컴', '라네즈', '롯데카드', '삼성전자', '롯데리아', '버거킹', '쉐보레', 'BMW', '캐논', '켈로그', '헤라', '애플'\n",
    "'LG유플러스', 'SK텔레콤', 'KT', '롯데면세점', '동서식품', 'SK하이닉스', '기아자동차', '넷마블', '넥슨', '현대자동차그룹', 'G마켓', '현대자동차', '이니스프리', '삼성전자', '배달의민족', 'SK-II' , '롯데칠성', '빙그레', '맥도날드', 'SK이노베이션'\n",
    "'알바천국',\n",
    "'리복',\n",
    "'쌤소나이트',\n",
    "'뉴트로지나',\n",
    "'나이키',\n",
    "'플레이스테이션',\n",
    "'설화수',\n",
    "'현대카드',\n",
    "'스니커즈',\n",
    "'마몽드',\n",
    "'농심',\n",
    "'타이레놀',\n",
    "'빈폴',\n",
    "'금호타이어',\n",
    "'아우디',\n",
    "'도미노피자',\n",
    "'르노삼성자동차',\n",
    "'나이키골프',\n",
    "'리스테린',\n",
    "'코웨이'\n",
    "'LG전자','LG전자','하이트진로', '엔씨소프트', '블리자드 엔터테인먼트', '에뛰드', '아디다스' , 'CJ제일제당', \n",
    "'11번가', '요기요', '아이오페', '소니', '처음처럼', '유니클로', '티몬', '한국암웨어', 'KB국민카드', 'LG생활건강', '카스', 'SK매직'\n",
    "]\n"
   ]
  },
  {
   "cell_type": "code",
   "execution_count": 12,
   "metadata": {
    "jupyter": {
     "source_hidden": true
    }
   },
   "outputs": [],
   "source": [
    "channels = ['COWAY STORY', \n",
    "'Bccard',\n",
    "'에이프릴스킨APRILSKIN'\n",
    ",'Funjejuair',\n",
    "'CJ'\n",
    ",'Eucerin Korea'\n",
    ",'엘페이 | 엘포인트'\n",
    ",'Electrolux Korea'\n",
    ",'Coca-Cola Korea'\n",
    ",'한율'\n",
    ",'NESCAFE Korea'\n",
    ",'Kuvings'\n",
    ",'위메프'\n",
    ",'배스킨라빈스 Baskinrobbins KOREA'\n",
    ",'1등 카셰어링쏘카'\n",
    ",'한국화이자제약'\n",
    ",'토니모리'\n",
    ",'한화 TV [Hanwah TV]'\n",
    ",'MINI Korea'\n",
    ",'롯데푸드'\n",
    ",'Samsungfire Talk'\n",
    ",'NIVEA Korea', 'Com2uS COrp', 'Acuvue Korea', 'plaync', '삼성생명', '삼서카드 Samsung Card', 'Reckitt Benckiser Korea', '신한카드', 'Hotels.com APAC', 'LANEIGE 라네즈 Korea', 'Lottecard', 'Samsung Korea', 'LOTTE RIA', '버거킹', 'Chevrolet Korea', 'BMW Korea', 'Canon Korea', 'Kellogg Korea', '헤라HERA', 'Apple 대한민국'\n",
    "'LG Uplus', 'SK telecom', 'KT', 'LOTTE DUTY FREE', '커피피라는행복맥심', 'SK하이닉스', '기아자동차', '넷마블 TV', '넥슨 YouTube', '현대자동차그룹', 'GmarketZone', '이니스프리', '삼성전자 뉴스룸', '배달의민족', 'SK-2 korea', 'LOTTE CHILSUNG', '빙그레', '한국 맥도날드', 'SK이노베이션' \n",
    "'알바천국',\n",
    "'Reebok Korea',\n",
    "'Korea Samsonite',\n",
    "'Neutrogena Korea',\n",
    "'Nike Korea',\n",
    "'PlayStation Korea',\n",
    "'Sulshasoo 설화수',\n",
    "'현대카드',\n",
    "'SNICKERS',\n",
    "'MAMONDE 마몽드 KOREA',\n",
    "'nongshim',\n",
    "'Tylenol Korea',\n",
    "'BEANPOLE 빈폴',\n",
    "'금호타이어 엑스타TV',\n",
    "'Audi Korea아우디 코리아',\n",
    "'도미노피자',\n",
    "'renaultsamsungM',\n",
    "'나이키 골프 코리아 유튜브',\n",
    "'Listerinekorea',\n",
    "'COWAY STORY'\n",
    "'LGMobile KR', 'LG전자 LG Electronics korea', 'HITEJINRO', 'ncsoft', 'BLIZZAREDKOREA', '에뛰드하우스(ETUDE HOUSE)',\n",
    " 'adidas Korea', 'CJ제일제당(CJ Cheiljedang)', '11번가', '요기요(YogiyoKr)',\n",
    "  '아이오페(IOPE)', 'Sony Korea', '처음처럼', '코리아유니클로', '티몬 TMON Official', 'Amway Korea',\n",
    "   'KB국민카드', 'LGCAREAD', 'Cass TVC', 'SK매직' \n",
    "]\n"
   ]
  },
  {
   "cell_type": "code",
   "execution_count": 13,
   "metadata": {
    "tags": []
   },
   "outputs": [
    {
     "output_type": "stream",
     "name": "stdout",
     "text": "['NaN', '구독자 10.8만명', '구독자 8.06만명']\n"
    }
   ],
   "source": [
    "channels = ['COWAY STORY', \n",
    "'Bccard',\n",
    "'에이프릴스킨APRILSKIN']\n",
    "subscribers_list = []\n",
    "totalview_list = []\n",
    "videonums_list = []\n",
    "\n",
    "for i in channels:\n",
    "    search = driver.find_element_by_name(\"search_query\")\n",
    "    search.clear()\n",
    "    search.send_keys(i)\n",
    "    search.submit()\n",
    "    driver.implicitly_wait(2)\n",
    "    driver.find_element_by_id(\"avatar-section\").click()\n",
    "    driver.implicitly_wait(2)\n",
    "    subscriber = driver.find_element_by_id(\"subscriber-count\")\n",
    "    if len(subscriber.text) > 0:\n",
    "        subscribers_list.append(subscriber.text)\n",
    "    else:\n",
    "        subscribers_list.append('NaN')\n",
    "\n",
    "print(subscribers_list)"
   ]
  },
  {
   "cell_type": "code",
   "execution_count": 14,
   "metadata": {
    "tags": []
   },
   "outputs": [
    {
     "output_type": "stream",
     "name": "stdout",
     "text": "['NaN', '구독자 10.8만명', '구독자 8.06만명']\n"
    }
   ],
   "source": [
    "print(subscribers_list)"
   ]
  },
  {
   "cell_type": "code",
   "execution_count": null,
   "metadata": {},
   "outputs": [],
   "source": []
  }
 ],
 "metadata": {
  "kernelspec": {
   "display_name": "Python 3",
   "language": "python",
   "name": "python3"
  },
  "language_info": {
   "codemirror_mode": {
    "name": "ipython",
    "version": 3
   },
   "file_extension": ".py",
   "mimetype": "text/x-python",
   "name": "python",
   "nbconvert_exporter": "python",
   "pygments_lexer": "ipython3",
   "version": "3.8.3-final"
  }
 },
 "nbformat": 4,
 "nbformat_minor": 4
}