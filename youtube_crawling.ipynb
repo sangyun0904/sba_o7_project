{
 "cells": [
  {
   "cell_type": "code",
   "execution_count": 1,
   "metadata": {},
   "outputs": [],
   "source": [
    "from selenium import webdriver\n",
    "from bs4 import BeautifulSoup as bs\n",
    "from selenium.webdriver import Chrome   \n",
    "from selenium.webdriver.common.keys import Keys\n",
    "import pandas as pd\n",
    "import time\n",
    "import re\n",
    "import requests\n",
    "import urllib.request #\n",
    "import datetime as dt"
   ]
  },
  {
   "cell_type": "code",
   "execution_count": 2,
   "metadata": {},
   "outputs": [],
   "source": [
    "driver = webdriver.Chrome('./chromedriver.exe')\n",
    "driver.implicitly_wait(2)"
   ]
  },
  {
   "cell_type": "code",
   "execution_count": 3,
   "metadata": {},
   "outputs": [],
   "source": [
    "driver.get(\"https://www.youtube.com/\")\n",
    "driver.implicitly_wait(2)"
   ]
  },
  {
   "cell_type": "code",
   "execution_count": 4,
   "metadata": {},
   "outputs": [],
   "source": [
    "input_element = driver.find_element_by_name(\"search_query\")\n",
    "input_element.send_keys(\"LG유플러스\")\n",
    "input_element.submit()\n",
    "driver.implicitly_wait(2)"
   ]
  },
  {
   "cell_type": "code",
   "execution_count": 5,
   "metadata": {},
   "outputs": [],
   "source": [
    "driver.find_element_by_id(\"avatar-section\").click()\n",
    "driver.implicitly_wait(2)"
   ]
  },
  {
   "cell_type": "code",
   "execution_count": 9,
   "metadata": {},
   "outputs": [],
   "source": [
    "driver.find_element_by_xpath('//*[@id=\"tabsContent\"]/paper-tab[2]/div').click()\n",
    "driver.implicitly_wait(2)"
   ]
  },
  {
   "cell_type": "code",
   "execution_count": null,
   "metadata": {},
   "outputs": [],
   "source": [
    "target_url = driver.current_url\n",
    "print(driver.current_url)"
   ]
  },
  {
   "cell_type": "code",
   "execution_count": 13,
   "metadata": {},
   "outputs": [],
   "source": [
    "#tabsContent > paper-tab.style-scope.ytd-c4-tabbed-header-renderer.iron-selected\n",
    "def pagedown(num):\n",
    "    num_of_pagedowns = num #page_down은 2로 놔도 괜찮을 듯 최대화 했으므로\n",
    "    body = driver.find_element_by_tag_name('body')\n",
    "    while num_of_pagedowns:\n",
    "        body.send_keys(Keys.END)\n",
    "        time.sleep(0.3) #스크롤 속도를 지정할 수 있는 것인데  1.5초가 가장 적당할 듯 1초면 너무 빠름\n",
    "        #현재는 스크롤을 7번만 하도록 설정되어 있으나 이후에 댓글을 크롤링하기 위해서는 스크롤을 댓글이 안보\n",
    "        #일때까지 내리면 될텐데 시간이 엄청 오래 걸릴 것임 - 따라서 적당한 수준의 댓글을 크롤링하는것이 좋음\n",
    "        num_of_pagedowns -= 1"
   ]
  },
  {
   "cell_type": "code",
   "execution_count": 11,
   "metadata": {},
   "outputs": [
    {
     "name": "stdout",
     "output_type": "stream",
     "text": [
      "659\n"
     ]
    }
   ],
   "source": [
    "page = driver.page_source\n",
    "soup = bs(page, 'lxml')\n",
    "all_videos = soup.find_all(id='dismissable')\n",
    "print(len(all_videos))"
   ]
  },
  {
   "cell_type": "code",
   "execution_count": 99,
   "metadata": {},
   "outputs": [
    {
     "name": "stdout",
     "output_type": "stream",
     "text": [
      "94\n",
      "['똑똑한 고양이가 학습하는 방법 (답 찾을 때까지 고민함)', '졸려 죽겠는데 술자리는 먼저 일어날 생각이 없는 쫀부장님', '목욕은 싫은데 간식이 맛있으니 참는다', '(라이브였음) 30분 뒤에 말벌냥저씨 모먼트 볼 수 있음', '밥 먹고 기분 겁나 좋아진 김쫀떡', 'ENG) 집중해서 그루밍 중인데 말 시켜서 짜증난 쫀떡이', '말벌냥저씨에게도 계단 한 칸 못올라가던 시절이 있었다', '수면 유도 음악에 자는 쫀떡이 끼얹기 (feat. 자는 쫀떡이 대신 만져보았습니다)', '녹음부저에 말하고 싶은 단어가 없어서 답답한 쫀떡이', '(무편집) 그냥 쫀떡이가 창 밖 보는 영상', '안 친한 아빠가 손 달라고 하니까 쫀떡이 반응이ㅋㅋㅋㅋㅋㅋ', '품에 포옥 안겨서 자는 쫀떡이', 'ENG) 챱챱 물 마시는 소리가 귀여워 죽겠다 ㅣ 물도 잘 마시는 쫀떡이', 'ENG) 매일매일 밥에 진심인 김쫀떡', '(무편집) 캣휠 1분만에 적응해버린 쫀떡이 ㅣ넌 대체 못하는 게 뭐야?', '술 마시고 쫀떡이에게 밥통 제대로 치는 법을 가르쳐 보았다...', '어디서 탱크 소리 안들려요? 아 그거 김쫀떡 골골송임 ㅣ들으면 꿀잠 가능', '※말 많음 주의※ 대답하는 쫀떡이 모음ㅣ수다쟁이 고양이', '고양이 트름 ㅋㅋㅋㅋㅋㅋ ㅣ쫀떡이 트름하는 모습 포착했어요 ㅋㅋㅋㅋ', '소파 긁는 고양이, 10초만에 행동 교정 했어요', '쫀떡이 아가시절 ㅣ이거 보면 왜 이름이 쫀떡인지 완벽히 이해 됨', '놀고 있던 장난감 집사에게 양보해주는 쫀떡이', '쫀떡이의 사냥법 : 똘망한 눈으로 귀여움 어필→방심하면 덮침', '너무 별로라 안올리려다가 1시간 동안 붙잡고 있던 게 아까워서 올려요...', '난생 처음 먹이퍼즐 하다가 화난 쫀떡이 (feat.말벌냥저씨)', '주말 아침을 맞이하는 고양이의 자세 ㅣ고양이 브이로그 (?)', '편집할 힘이 없습니댜... 방금 찍은 얌전히 노는 김쫀떡', '녹음부저벨 쫀↗떠 →기 10분', '쫀떡이가 손도 모자라 발까지 주기 시작했어요ㅣ뒷발 주는 고양이', '먼저 자라고 했더니 같이 잘 거라고 말대꾸하는 김쫀떡', '불금엔 김쫀떡', '쫀떡이 헬로 10분', \"쫀떡이 왈 : 초록색 '쫀떠기' 부저 부실 뻔한 썰 푼다\", '식탐 많은 고양이에게 생선을 주면 생기는 일 ㅋㅋㅋ (술냄새 주의;)', '쫀떡이는 언제부터 똑똑했을까', '고양이가 으르렁대요 ㅣ고집쟁이 쫀떡이', '고양이 젤리만 나오는 영상 ㅣ 하리보 곰돌이 두우개 ㅎ', '제가 살다살다 쫀떡이 껴안고 쫀떠기! 녹음을 다해보네요... ㅣ쫀떡이 소박한 Q&A', '10초로 보는 쫀떡이 수다력 (쫀떡이 배고파? : 우우웅!! 배 안 고파? : 침묵)', '쫀떡이가 집사와 노는 법 (놀다가 밥통 침 ㅋㅋㅋㅋ)', '녹음부저벨 목소리 \"쫀떠기!\" 모음', '새벽에 보는 모닝 쫀떡이 (자연광 받고 미모 폭발)', '쫀떡이가 자기 이름은 쫀떡이래요 | 녹음부저벨 누르는 고양이 무편집', '간식 리필 해달라고 벨 계속 누르는 진상손님', '고양이는 왜 좋다고 골골송 부르다가 갑자기 화내고 깨무낭ㅛ', '밥 나오면 2층으로 뛰어가던 쫀떡이, 이젠 못 봐요...', '빨간내복 입은 고양이 (feat. 환묘복)', '진짜 귀여운 거 보여드릴까요', '술 마시고 대화 시도하는 집사를 본 고양이의 반응', '생전 처음 본 간식 먹다가 냠냠이라고 말하는 고양이 (으음냠냐암냠냠긋)', '간식 먹는 꿈 꾸는 고양이', '술 마시고 고양이랑 싸웠습니다', '고양이 최초로(?) 단어를 조합하기 시작했어요ㅣ녹음부저벨로 대화하는 고양이 ㅣ똑똑한 고양이', '그루밍하다가 잠드는 아기 고양이 쫀떡이', \"'고양이가' 까꿍놀이에 중독된 '집사를' 놀아주는 방법\", '고양이같이 생긴 강아지가 손 주고 하이파이브 하는 영상', '집에 늦게 들어갔더니 쫀떡이가 진짜로 매우 화났어요...(잔소리 폭격)', '(졸귀) (핵졸귀) 집사 자니까 옆에 와서 눕는 고양이', '늦게 귀가한 집사가 못마땅한 고양이', '모자 쓴 쫀떡이', '고양이 골골송 | 집사 품에서 자는 게 너무 좋은 고양이 쫀떡이', '녹음부저벨로 대화하는 고양이ㅣ쫀떡이가 말을 배우기 시작했어요!', '너 이름이 뭐야?', '출근 전에 간식 안 주고 간다 했더니 멘붕 온 고양ㅇㅣ', '귀여운 식빵', '쫀떡이가 배고파서 밥통을 치는 게 아니라는 증거 포착', '멍 때리다가도 자동급식기 소리 들리면 달려가는 고양이 쫀떡이', '(실시간) 한가로운 주말에 집사 옆에서 꿀잠 자는 쫀떡이', '고양이가 종치면 집사가 간식 주는 훈련', '밥 더 먹고 싶으면 자동급식기 쳐서 셀프로 리필해 먹는 고양이 쫀떡이', '방금 찍은 쫀떡이 미모 감상하고 가세여', '밥통으로 비트 찍는 김쫀떡', '(편집x) 종치는 고양이 쫀떡이', '집사가 잠시 자리 비우자 문 앞에서 하염없이 기다리는 고양이 쫀떡이', '세탁기 돌아가는 거 처음 본 아기 고양이 쫀떡이', '밥통 폭행 냥이 김쫀떡 (부족한 밥은 내가 알아서 더먹는다)', '밥 줄까? 물어봤더니 말문 터진 고양이 쫀떡이', '노트북 하는 거 방해 하길래 안았더니 그대로 잠든 쫀떡이', '개인기 두 번 시켰다고 짜증내는 고양이 쫀떡이', '10초로 보는 쫀떡이 활동량', '장난감 안 뺏기려고 으르렁 대는 고양이 쫀떡이', '고양이에게서 말벌아저씨가 느껴진다... l 밥 나오면 헐레벌떡 뛰어가는 고양이', '그냥 뽀시래기 고양이가 자는 영상 (완벽한 쫀떡궁합 색 시절)', '맥북 깨물어서 혼냈더니 자는 척 하는 고양이', '고양이가 야바위를 한다고? / 야바위 처음 배우는 쫀떡이', '쫀떡이가 할 줄 아는 개인기 (기다려, 충성, 화이팅, 빵, 하이파이브, 돌아 등)', '밥 나오는 소리만 들리면 뛰어가는 고양이', '집사가 하루 외박했다고 단단히 삐친 고양이', '고양이가 개같아요', '아르르 쮸르 관계자 분들 이거 보면 연락주세요 (영원히 못보시겠지만)', '잠 안올 때 보는 영상 / 고양이 코고는 소리 ASMR / 5분만에 잠오는 영상', '고양이한테서 아빠 코고는 소리가 난다', '혓바닥 넣는 걸 깜빡한 고양이', '간식 있어야만 하이파이브 하는 고양이 /자본주의 개인기']\n"
     ]
    }
   ],
   "source": [
    "title_list = []\n",
    "for video in all_videos:\n",
    "    title = video.find(id='video-title')\n",
    "    if len(title.text.strip())>0:\n",
    "        title_list.append(title.text)\n",
    "    if video.find()\n",
    "\n",
    "print(len(title_list))\n",
    "print(title_list)"
   ]
  },
  {
   "cell_type": "code",
   "execution_count": null,
   "metadata": {},
   "outputs": [],
   "source": [
    "brands = ['코웨이,\n",
    ",'BC카드'\n",
    ",'에이프릴스킨'\n",
    ",'제주항공'\n",
    ",'CJ그룹'\n",
    ",'유세린'\n",
    ",'엘페이'\n",
    ",'일렉트로룩스'\n",
    ",'코카콜라'\n",
    ",'한율'\n",
    ",'네스카페'\n",
    ",'쿠빙스'\n",
    ",'위메프'\n",
    ",'배스킨라빈스'\n",
    ",'쏘카'\n",
    ",'한국화이자제약'\n",
    ",'토니모리'\n",
    ",'한화그룹'\n",
    ",'미니'\n",
    ",'롯데푸드'\n",
    ",'삼성화재',\n",
    "'니베아', '컴투스', '아큐브', '엔씨소프트', '삼성생명', '삼성카드', '레킷벤키저', '신한카드', '호텔스닷컴', '라네즈', '롯데카드', '삼성전자', '롯데리아', '버거킹', '쉐보레', 'BMW', '캐논', '켈로그', '헤라', '애플'\n",
    "'LG유플러스', 'SK텔레콤', 'KT', '롯데면세점', '동서식품', 'SK하이닉스', '기아자동차', '넷마블', '넥슨', '현대자동차그룹', 'G마켓', '현대자동차', '이니스프리', '삼성전자', '배달의민족', 'SK-II' , '롯데칠성', '빙그레', '맥도날드', 'SK이노베이션'\n",
    "'알바천국',\n",
    "'리복',\n",
    "'쌤소나이트',\n",
    "'뉴트로지나',\n",
    "'나이키',\n",
    "'플레이스테이션',\n",
    "'설화수',\n",
    "'현대카드',\n",
    "'스니커즈',\n",
    "'마몽드',\n",
    "'농심',\n",
    "'타이레놀',\n",
    "'빈폴',\n",
    "'금호타이어',\n",
    "'아우디',\n",
    "'도미노피자',\n",
    "'르노삼성자동차',\n",
    "'나이키골프',\n",
    "'리스테린',\n",
    "'코웨이'\n",
    "'LG전자','LG전자','하이트진로', '엔씨소프트', '블리자드 엔터테인먼트', '에뛰드', '아디다스' , 'CJ제일제당', \n",
    "'11번가', '요기요', '아이오페', '소니', '처음처럼', '유니클로', '티몬', '한국암웨어', 'KB국민카드', 'LG생활건강', '카스', 'SK매직'\n",
    "]\n"
   ]
  },
  {
   "cell_type": "code",
   "execution_count": null,
   "metadata": {
    "jupyter": {
     "source_hidden": true
    }
   },
   "outputs": [],
   "source": [
    "channels = ['COWAY STORY', \n",
    "'Bccard',\n",
    "'에이프릴스킨APRILSKIN'\n",
    ",'Funjejuair',\n",
    "'CJ'\n",
    ",'Eucerin Korea'\n",
    ",'엘페이 | 엘포인트'\n",
    ",'Electrolux Korea'\n",
    ",'Coca-Cola Korea'\n",
    ",'한율'\n",
    ",'NESCAFE Korea'\n",
    ",'Kuvings'\n",
    ",'위메프'\n",
    ",'배스킨라빈스 Baskinrobbins KOREA'\n",
    ",'1등 카셰어링쏘카'\n",
    ",'한국화이자제약'\n",
    ",'토니모리'\n",
    ",'한화 TV [Hanwah TV]'\n",
    ",'MINI Korea'\n",
    ",'롯데푸드'\n",
    ",'Samsungfire Talk'\n",
    ",'NIVEA Korea', 'Com2uS COrp', 'Acuvue Korea', 'plaync', '삼성생명', '삼서카드 Samsung Card', 'Reckitt Benckiser Korea', '신한카드', 'Hotels.com APAC', 'LANEIGE 라네즈 Korea', 'Lottecard', 'Samsung Korea', 'LOTTE RIA', '버거킹', 'Chevrolet Korea', 'BMW Korea', 'Canon Korea', 'Kellogg Korea', '헤라HERA', 'Apple 대한민국'\n",
    "'LG Uplus', 'SK telecom', 'KT', 'LOTTE DUTY FREE', '커피피라는행복맥심', 'SK하이닉스', '기아자동차', '넷마블 TV', '넥슨 YouTube', '현대자동차그룹', 'GmarketZone', '이니스프리', '삼성전자 뉴스룸', '배달의민족', 'SK-2 korea', 'LOTTE CHILSUNG', '빙그레', '한국 맥도날드', 'SK이노베이션' \n",
    "'알바천국',\n",
    "'Reebok Korea',\n",
    "'Korea Samsonite',\n",
    "'Neutrogena Korea',\n",
    "'Nike Korea',\n",
    "'PlayStation Korea',\n",
    "'Sulshasoo 설화수',\n",
    "'현대카드',\n",
    "'SNICKERS',\n",
    "'MAMONDE 마몽드 KOREA',\n",
    "'nongshim',\n",
    "'Tylenol Korea',\n",
    "'BEANPOLE 빈폴',\n",
    "'금호타이어 엑스타TV',\n",
    "'Audi Korea아우디 코리아',\n",
    "'도미노피자',\n",
    "'renaultsamsungM',\n",
    "'나이키 골프 코리아 유튜브',\n",
    "'Listerinekorea',\n",
    "'COWAY STORY'\n",
    "'LGMobile KR', 'LG전자 LG Electronics korea', 'HITEJINRO', 'ncsoft', 'BLIZZAREDKOREA', '에뛰드하우스(ETUDE HOUSE)',\n",
    " 'adidas Korea', 'CJ제일제당(CJ Cheiljedang)', '11번가', '요기요(YogiyoKr)',\n",
    "  '아이오페(IOPE)', 'Sony Korea', '처음처럼', '코리아유니클로', '티몬 TMON Official', 'Amway Korea',\n",
    "   'KB국민카드', 'LGCAREAD', 'Cass TVC', 'SK매직' \n",
    "]\n"
   ]
  },
  {
   "cell_type": "code",
   "execution_count": 14,
   "metadata": {},
   "outputs": [
    {
     "name": "stdout",
     "output_type": "stream",
     "text": [
      "누적 조회수:  ['조회수 51,442,528회', '조회수 41,356,232회', '조회수 26,194,607회']\n",
      "구독자 수:  ['NaN', '구독자 10.8만명', '구독자 8.06만명']\n",
      "동영상 수:  [333, 404, 506]\n",
      "동영상 평균 조회수:  ['154482.06606606607 회', '102366.91089108911 회', '51767.998023715416 회']\n"
     ]
    }
   ],
   "source": [
    "channels = ['COWAY STORY', \n",
    "'Bccard',\n",
    "'에이프릴스킨APRILSKIN']\n",
    "subscribers_list = []\n",
    "totalview_list = []\n",
    "videonums_list = []\n",
    "videoviewsmeans_list = []\n",
    "\n",
    "for i in channels:\n",
    "    search = driver.find_element_by_name(\"search_query\")\n",
    "    search.clear()\n",
    "    search.send_keys(i)\n",
    "    search.submit()\n",
    "    driver.find_element_by_id(\"avatar-section\").click()\n",
    "    subscriber = driver.find_element_by_id(\"subscriber-count\")\n",
    "    if len(subscriber.text) > 0:\n",
    "        subscribers_list.append(subscriber.text)\n",
    "    else:\n",
    "        subscribers_list.append('NaN')\n",
    "    driver.find_element_by_xpath('//*[@id=\"tabsContent\"]/paper-tab[6]/div').click()\n",
    "    totalviews = driver.find_element_by_xpath('//*[@id=\"right-column\"]/yt-formatted-string[3]').text\n",
    "    totalview_list.append(totalviews)\n",
    "    \n",
    "    viwes = []\n",
    "    driver.find_element_by_xpath('//*[@id=\"tabsContent\"]/paper-tab[2]/div').click()\n",
    "    time.sleep(3)\n",
    "    pagedown(50)\n",
    "    page = driver.page_source\n",
    "    soup = bs(page, 'lxml')\n",
    "    all_videos = soup.find_all(id='dismissable')\n",
    "    videonums_list.append(len(all_videos))\n",
    "    videoviewsmeans_list.append(str(int(totalviews.strip('조회수 ').replace(',','')) / len(all_videos)) + ' 회')\n",
    "                              \n",
    "print('누적 조회수: ', totalview_list)\n",
    "print('구독자 수: ', subscribers_list)\n",
    "print('동영상 수: ', videonums_list)\n",
    "print('동영상 평균 조회수: ', videoviewsmeans_list)"
   ]
  },
  {
   "cell_type": "code",
   "execution_count": 16,
   "metadata": {},
   "outputs": [
    {
     "name": "stdout",
     "output_type": "stream",
     "text": [
      "['NaN', '구독자 10.8만명', '구독자 8.06만명']\n"
     ]
    }
   ],
   "source": [
    "(~이번주 금) 동영상/정보 탭 데이터 수집 \n",
    ": 누적조회수, 구독자수, 영상수, 영상별 조회수"
   ]
  },
  {
   "cell_type": "code",
   "execution_count": 1,
   "metadata": {},
   "outputs": [
    {
     "ename": "NameError",
     "evalue": "name 'wd' is not defined",
     "output_type": "error",
     "traceback": [
      "\u001b[1;31m---------------------------------------------------------------------------\u001b[0m",
      "\u001b[1;31mNameError\u001b[0m                                 Traceback (most recent call last)",
      "\u001b[1;32m<ipython-input-1-0428206f4d15>\u001b[0m in \u001b[0;36m<module>\u001b[1;34m\u001b[0m\n\u001b[1;32m----> 1\u001b[1;33m \u001b[0mdriver\u001b[0m \u001b[1;33m=\u001b[0m \u001b[0mwd\u001b[0m\u001b[1;33m.\u001b[0m\u001b[0mChrome\u001b[0m\u001b[1;33m(\u001b[0m\u001b[0mexecutable_path\u001b[0m\u001b[1;33m=\u001b[0m\u001b[1;34m\"chromedriver.exe\"\u001b[0m\u001b[1;33m)\u001b[0m\u001b[1;33m\u001b[0m\u001b[1;33m\u001b[0m\u001b[0m\n\u001b[0m\u001b[0;32m      2\u001b[0m \u001b[0murl\u001b[0m \u001b[1;33m=\u001b[0m \u001b[1;34m'https://www.youtube.com/olleh/videos'\u001b[0m\u001b[1;33m\u001b[0m\u001b[1;33m\u001b[0m\u001b[0m\n\u001b[0;32m      3\u001b[0m \u001b[0mdriver\u001b[0m\u001b[1;33m.\u001b[0m\u001b[0mget\u001b[0m\u001b[1;33m(\u001b[0m\u001b[0murl\u001b[0m\u001b[1;33m)\u001b[0m\u001b[1;33m\u001b[0m\u001b[1;33m\u001b[0m\u001b[0m\n\u001b[0;32m      4\u001b[0m \u001b[0mlast_page_height\u001b[0m \u001b[1;33m=\u001b[0m \u001b[0mdriver\u001b[0m\u001b[1;33m.\u001b[0m\u001b[0mexecute_script\u001b[0m\u001b[1;33m(\u001b[0m\u001b[1;34m\"return document.documentElement.scrollHeight\"\u001b[0m\u001b[1;33m)\u001b[0m\u001b[1;33m\u001b[0m\u001b[1;33m\u001b[0m\u001b[0m\n\u001b[0;32m      5\u001b[0m \u001b[1;33m\u001b[0m\u001b[0m\n",
      "\u001b[1;31mNameError\u001b[0m: name 'wd' is not defined"
     ]
    }
   ],
   "source": [
    "driver = wd.Chrome(executable_path=\"chromedriver.exe\") \n",
    "url = 'https://www.youtube.com/olleh/videos' \n",
    "driver.get(url) \n",
    "last_page_height = driver.execute_script(\"return document.documentElement.scrollHeight\")\n",
    "\n",
    "while True: \n",
    "    driver.execute_script(\"window.scrollTo(0, document.documentElement.scrollHeight);\") \n",
    "    time.sleep(1.0) \n",
    "    new_page_height = driver.execute_script(\"return document.documentElement.scrollHeight\") \n",
    "    if new_page_height == last_page_height: \n",
    "        break \n",
    "    last_page_height = new_page_height \n",
    "html_source = driver.page_source \n",
    "driver.close() \n",
    "soup = BeautifulSoup(html_source, 'lxml')"
   ]
  },
  {
   "cell_type": "code",
   "execution_count": 6,
   "metadata": {},
   "outputs": [],
   "source": [
    "page = driver.page_source\n",
    "soup = bs(page, 'lxml')"
   ]
  },
  {
   "cell_type": "code",
   "execution_count": 7,
   "metadata": {},
   "outputs": [
    {
     "ename": "AttributeError",
     "evalue": "'NoneType' object has no attribute 'text'",
     "output_type": "error",
     "traceback": [
      "\u001b[1;31m---------------------------------------------------------------------------\u001b[0m",
      "\u001b[1;31mAttributeError\u001b[0m                            Traceback (most recent call last)",
      "\u001b[1;32m<ipython-input-7-ad446c8bb915>\u001b[0m in \u001b[0;36m<module>\u001b[1;34m\u001b[0m\n\u001b[1;32m----> 1\u001b[1;33m \u001b[0mcomments_num\u001b[0m \u001b[1;33m=\u001b[0m \u001b[0msoup\u001b[0m\u001b[1;33m.\u001b[0m\u001b[0mfind\u001b[0m\u001b[1;33m(\u001b[0m\u001b[1;33m{\u001b[0m\u001b[1;34m'class'\u001b[0m\u001b[1;33m:\u001b[0m\u001b[1;34m\"count-text style-scope ytd-comments-header-renderer\"\u001b[0m\u001b[1;33m}\u001b[0m\u001b[1;33m)\u001b[0m\u001b[1;33m.\u001b[0m\u001b[0mtext\u001b[0m\u001b[1;33m\u001b[0m\u001b[1;33m\u001b[0m\u001b[0m\n\u001b[0m\u001b[0;32m      2\u001b[0m \u001b[0mprint\u001b[0m\u001b[1;33m(\u001b[0m\u001b[0mcomments_num\u001b[0m\u001b[1;33m)\u001b[0m\u001b[1;33m\u001b[0m\u001b[1;33m\u001b[0m\u001b[0m\n",
      "\u001b[1;31mAttributeError\u001b[0m: 'NoneType' object has no attribute 'text'"
     ]
    }
   ],
   "source": [
    "comments_num = soup.find({'class':\"count-text style-scope ytd-comments-header-renderer\"}).text\n",
    "print(comments_num)"
   ]
  },
  {
   "cell_type": "code",
   "execution_count": 9,
   "metadata": {},
   "outputs": [
    {
     "data": {
      "text/plain": [
       "NoneType"
      ]
     },
     "execution_count": 9,
     "metadata": {},
     "output_type": "execute_result"
    }
   ],
   "source": [
    "comments_num = soup.find('h2', {'class':'style-scope ytd-comments-header-renderer'})\n",
    "type(comments_num)"
   ]
  },
  {
   "cell_type": "code",
   "execution_count": null,
   "metadata": {},
   "outputs": [],
   "source": []
  }
 ],
 "metadata": {
  "kernelspec": {
   "display_name": "Python 3",
   "language": "python",
   "name": "python3"
  },
  "language_info": {
   "codemirror_mode": {
    "name": "ipython",
    "version": 3
   },
   "file_extension": ".py",
   "mimetype": "text/x-python",
   "name": "python",
   "nbconvert_exporter": "python",
   "pygments_lexer": "ipython3",
   "version": "3.7.7"
  }
 },
 "nbformat": 4,
 "nbformat_minor": 4
}
