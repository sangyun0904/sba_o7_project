{
 "cells": [
  {
   "cell_type": "code",
   "execution_count": 63,
   "metadata": {},
   "outputs": [],
   "source": [
    "from selenium import webdriver\n",
    "from bs4 import BeautifulSoup as bs\n",
    "import matplotlib as mpl\n",
    "import matplotlib.pyplot as plt\n",
    "import pandas as pd\n",
    "import itertools\n",
    "import time\n",
    "import MeCab\n",
    "\n",
    "mpl.rcParams['axes.unicode_minus'] = False #한글폰트로 바꿨을 때 마이너스 폰트 깨짐 방지"
   ]
  },
  {
   "cell_type": "code",
   "execution_count": 5,
   "metadata": {},
   "outputs": [],
   "source": [
    "driver = webdriver.Chrome('./chromedriver.exe')\n",
    "driver.implicitly_wait(2)\n",
    "driver.get(\"https://www.youtube.com/\")"
   ]
  },
  {
   "cell_type": "code",
   "execution_count": 6,
   "metadata": {},
   "outputs": [],
   "source": [
    "driver.find_element_by_xpath('//*[@id=\"contents\"]/ytd-rich-item-renderer[2]').click()"
   ]
  },
  {
   "cell_type": "code",
   "execution_count": 7,
   "metadata": {},
   "outputs": [],
   "source": [
    "last_page_height = driver.execute_script(\"return document.documentElement.scrollHeight\")\n",
    "\n",
    "while True: \n",
    "    driver.execute_script(\"window.scrollTo(0, document.documentElement.scrollHeight);\") \n",
    "    time.sleep(1.0) \n",
    "    new_page_height = driver.execute_script(\"return document.documentElement.scrollHeight\") \n",
    "    if new_page_height == last_page_height: \n",
    "        break \n",
    "    last_page_height = new_page_height "
   ]
  },
  {
   "cell_type": "code",
   "execution_count": 23,
   "metadata": {},
   "outputs": [],
   "source": [
    "comments=[]\n",
    "page = driver.page_source\n",
    "soup = bs(page, 'lxml')\n",
    "all_comments = soup.find_all(id='expander')\n",
    "for comment in all_comments:\n",
    "#    comment = comment.find(id='content-text')\n",
    "    comment_lines = comment.find_all('span', {'class':\"style-scope yt-formatted-string\"})\n",
    "    comment = ''\n",
    "    for line in comment_lines:\n",
    "        comment += line.text.strip() + ' '\n",
    "    if len(comment) > 0:\n",
    "        comments.append(comment)"
   ]
  },
  {
   "cell_type": "code",
   "execution_count": 24,
   "metadata": {},
   "outputs": [
    {
     "name": "stdout",
     "output_type": "stream",
     "text": [
      "['📪 웃찾사 배달왔어요~ 📪    🤞 남호연 띵작 <뿌리 없는 나무>   🤞 정말,, 기묘하죠? <기묘한이야기>   🤞 에이미 원조 <흔한남매>   🤞 고품격 거지 <강남거지>   🤞 줴훈줴훈~ <남자끼리>   🤞 일제강점기,, 모진 고문에도 굴하지 않는,, <역사 속 그날>   🤞 일단, 공부 잘하고 싶으면 보세요 <문과이과>   🤞 윤화, 니 민기쌤 좋아하냐? <콩닥콩닥 민기쌤>   🤞 내가 학교를 이렇게 다녔어야 했는데,, <호찬아>   🤞 나 오빠 2시간이나 기다렸어 <오빠가 너무해>   🤞 남자가 두근거릴 때...⭐️<남자의 심장>   🤞 인생 2회차 <윤화는 일곱살>  ', '이 코너가 그 레전드 그거잖아...  홍윤화가 대사 실수해서 민망해하면서 김민기한테 오빠가 틀렸다고 해~ 하니까 김민기가 네 제가 틀렸어요 죄송해요~ 한거ㅠㅠㅠㅠㅠㅠ ', '웃찾사는 진짜  1.뿌리없는나무  2.남자끼리  3.윤화는 일곱살  이거3개가 진짜 재밌었는디 ', ' 김민기 : 너 자꾸 TV보고 나쁜 거 따라하면  오빠가 진짜 콩-한다!  홍윤화 : 오빠가 콩하면 난 오빠를 딱 잡아가지고,  바닥에 탁 놓고,  밀대로 싹 밀어가지고,  오빠를 화살표로 탁탁탁 붙여놔 펌프로 만들어가지고,  다다단 단다라 단다라 딴딴딴딴 똰! 할거야.    우와! 좋아요 1000개 달성!!! ', '2020년에 보시는 분  👇  👇  👇  👇  👉👉👉👉👉👉👉👉출구♡ ', '오빠가 콩하멍 오빠를 탁잡아가지고 바닥에 탕놓고 밀대로 상밀어가지고 오빠를 화살표를 탁탁탁 묻혀다 펌프로 만들어 따다단다다다다단다다딴딴딴딴따딴 할꺼야ㅋㅋㅋㅋㅋㅋㅋㅋ ', '나여기부터 왤캐 웃기냨ㅋ ', '이때 우리는 몰랐다  저 둘이 남매에서 부부로 바뀔줄 몰랐다  그랬다,저 둘은 저때 사귀는 사이였다  저 연기력에 박수를  👏👏👏👏👏👏👏👏👏👏👏 ', '행사장풍선ㅋㅋㅋㅋ ', '김민기 : 너 자꾸 TV보고 나쁜 거 따라하면  오빠가 진짜 코옹!!!한다!  홍윤화 : 오빠가 코옹!!!!!!!!!!!!!!!하면 난 오빠를 딱 잡아가지고  바닥에 탁 놓고  밀대로 싹 밀어가지고,  오빠를 화살표로 탁탁탁 붙여놔 펌프로 만들어가지고,  다다단 단다라 단다라 딴딴딴딴 똬안!!!!!!!!!!! 할거야. ', 'ㅋㅋㅋㅋㅋㅋㅋㅋㅋㅋ 아니 행사 풍선 개 잘해 ㅋㅋㅋㅋㅋㅋㅋㅋㅋㅋㅋ 풍선댄스 미치겠다 ', ' 제일웃긴곳ㅋㅋㅋㅋ ', '말레피센트ㅋㅋㅋㅋㅋㅋㅋㅋㅋ ', '초 게속 눌러보셈 빰대리는거같에 ', '드라마 속 회장님 처럼!  니가 어떻게 끄읔..트읔.. ', '시작하자마자웃김ㅋㅋㅋㅋ ', '와... 끝내주는데.. 대박이네 ㅋㅋ ', '행사장 풍선 따다다다닷ㅋㅋㅋㅋ ', '오우야 ', '아니 말투가 너무 진심같앜ㅋㅋㅋㅋㅋㅋㅋㅋㅋ 너무웃곀ㅋㅋㅋㅋㅋㅋㅋㅋㅋㅋㅋㅋㅋ ', '웃긴 와중에도 너무 잘 움직여 ㅋㅋㅎㅋㅋㅎㅋㅎ ', '와 진짜 같다 ', '윤화  일진 같음 ㅋㅋㅋㅋㅋ-ㅋㅋㅋㅋㅋㅋㅋㅋㅋㅋㅋㅋㅋㅋㅋㅋㅋㅋㅋㅋㅋㅋㅋㅋㅋㅋㅋㅋㅋㅋㅋㅋㅋㅋㅋㅋㅋㅋㅋㅋㅋㅋㅋㅋㅋㅋㅋㅋㅋㅋㅋㅋㅋ  좋아요1개 감사해요  좋아요2개 감사해요  좋아요3개 감사해요  좋아요3개 감사해요  좋아요4개 감사해요  좋아요5개 감사해요  좋아요6개 감사해요  좋아요7개 감사해요  좋아요8개 감사해요  좋아요9개 감사해요  좋아요10개 감사해요  좋아요11개 감사해요  헉헉.... 이제그만하면 않돼요.?.??..?..?...... ', '아 진짜 너무 귀여워 ㅠㅠㅠㅠㅠㅠ ', '윤화님 귀엽고  웃기닼ㅋ          따란따따딴~(도대체 그 동작을 어떡해하신건지;;) ', '행사장 풍선 따랏따따닷 ', '분 풍선춤 완전 똑같앸ㅋㅋㅋㅋ 겁나 웃겨 이 시리즈 다봐야징~ㅋㅋㅋ ', '뽀로로 춤  앜ㅋㅋㅋ 웃곀  ㅋㅋ  12하트 감사합니다 ㅎ ', 'ㅋㅋㅋㅋㅋㅋㅋㅋㅋㅋㅋㅋㅋㅋㅋㅋㅋㅋㅋㅋㅋㅋㅋㅋㅋㅋㅋㅋㅋㅋㅋㅋㅋㅋㅋㅋㅋㅋㅋㅋㅋㅋㅋㅋㅋㅋㅋㅋㅋㅋㅋㅋㅋㅋㅋㅋㅋㅋㅋㅋㅋㅋㅋㅋㅋㅋㅋㅋㅋㅋㅋㅋㅋㅋㅋㅋㅋㅋㅋㅋㅋㅋㅋㅋㅋㅋㅋㅋㅋㅋㅋㅋㅋㅋㅋㅋㅋㅋㅋㅋㅋㅋㅋㅋㅋㅋㅋㅋㅋㅋㅋㅋㅋㅋㅋㅋㅋㅋㅋㅋㅋㅋㅋㅋㅋㅋㅋㅋㅋㅋㅋㅋㅋㅋㅋㅋㅋㅋㅋㅋㅋㅋㅋㅋㅋㅋㅋㅋㅋㅋㅋㅋㅋㅋㅋㅋㅋㅋㅋㅋㅋㅋㅋㅋㅋㅋㅋㅋ ', '윤화님 캐릭 옛날에 개그야 그렇지요에서 제성님이 맡으신 캐릭이랑 비슷하닼ㅋㅋㅌㅋㅋㅌㅋ  개재밌넼ㅌㅋㅌㅋㅌㅋㅋㅋㅋㅌㅋㅋㅋㅌㅋ ', '흐어큐ㅠㅠㅠ 갑자기 얼굴은 평온한데 퍼더덛ㄲ덕 하는거 겁나 커여웡 ', '뻐어ㅓㅓㅓ어어어엉 ㅠㅠㅋㅋ ', 'ㅋㅋㅋㅋ 도ㅋㅋㅋㅋㅋ  ㅋㅋㅋㅋ ', '김민기 옾퐈가 개그맨이였구나....  옛날엔 모르고 봤는데...  사귀는 사이였었고.... 큼  나 눈치 0단이네.... ', '윤화누나 지금은  살뺐지만  살이 좀있었을때 엄청 귀여우셩ㅋㅋ.. ', '요기에  흔한남매 도하는데  흔한남매도 개그커플인대  으뜸이가 먼저고백했대요 ', '홍윤화개웃겨용  사귀는지몰르겠당 ㅋㅋㅋㅋ😂 ', '부터 까지 나만 이거 재밌낰ㅋㅋㅋ ', '순간  씨11발 인줄....ㅋㅋ(찰딱찰딱찰딱찰딱찰딱찰딱찰딱찰딱찰딱찰딱찰딱찰딱찰딱찰딱찰딱) ', '앜ㅋㅋㅋ알고리즘에 끌려왔는데 ㅋㅋㅋㅋㅋ 여기서 뿜ㅋㅋㅋㅋ ', '~39초 까지 진짜 웃김 ㅋㅋ 흥윤화님이:\\'!2×#&×~♡♤÷\"÷♡*\"÷*♡\"♡&×÷*♡\"~××♡*!\\'ㅋㅋㅋ ', '넘 귀여웤ㅋㅋㅋㅋ ', '윤화:그러면..당황하지않고..(무섭)두손  으로문을연다!탁으아아!!!ㅋㅋㅋㅋㅋㅋㅋㅋㅋㅋㅋㅋㅋㅋㅋ ', '초에 열어!! 할때 콜라 뿜음ㅋㅋㅋㅋㅋㅋㅋㅋㅋㅋㅋㅋㅋㅋㅋㅋㅋㅋㅋㅋㅋㅋ ', '제 웃찾사 최애  1윤화는 일곱살  2해줘라  3버섯돌이 꿀쟘ㅋㅋㅋㅋㅋ ', '흡사 소ㅋㅋㅋㅋㅋㅋㅋㅋㅋㅋㅋㅋㅋㅋㅋ ', 'ㄹㅈㄷ ', '아니 ㄹㅇ 개똑같아 ㅋㅋㅋㅋㅋㅋㅋㅋㅋ ', '에 진짜 아팠을 것 같은데...ㅋㅋ  소리가... ㄷㄷ ', '홍윤화언니넘귀엽당!!♥ ', '개귀엽네 ㅋㅋㅋㅋㅋㅋㅋㅋㅋㅋ ', '열어ㅋㅋㅋㅋㅋㅋㅋㅋㅋ  버릇들어ㅋㅋㅋㅋㅋㅋㅋ ', '왜 이렇게 잘해ㅋㅋㅋ  완전 똑같아ㅋㅋ ', '아 나는 또 이거 예전에보고 치과갈때 하는건줄 알았자너ㅋㅋㅋㅋㅋㅋ ', '사이렌 인줄ㅋㅋㅋㅋㅋㅋㅋㅋㅋㅋㅋㅋㅋ ', '진짜 똑같다ㅋㅋㅋ ', '윤화가유치원에서1찔인가.....? ', 'ㅋㅋㅋㅋㅋㅋㅋㅋㅋㅋㅋ 따따따단  이거 추억..ㅠㅠ ', '오빠가콩 하면탁잡아주고 바닥에 탁놓고 밀대로 싹 밀어가지고 오빠를 화살표로 탁탁탁 퍼플로 다 다다다다단다단단 다다다다단단단단단 딴딴딴딴딴!할거야!ㅋㅋㅋㅋㅋㅋㅋ ', '초 진짜 유연하네 ㅋㅋㅋ ', '초부터 웃기닼ㅋㅋㅋㅋㅋㅋㅋ ', 'ㅋㅋㅋㅋㅋㅋㅋㅋㅋㅋㅋㅋㅋㅋㅋㅋㅋㅋㅋㅋㅋㅋㅋㅋㅋㅋㅋㅋㅋㅋㅋㅋㅋㅋㅋㅋㅋㅋㅋㅋㅋㅋㅋㅋㅋㅋㅋㅋㅋㅋㅋㅋㅋㅋㅋㅋ ', '완전 웃곀ㅋㅋㅋ ', '언니 왜이렇게 유연해요ㅋㅋㅋㅋ ', '초부터 엄청 웃겨ㅋㅋㅋㅋㅋㅋㅋㅋㅋㅋㅋㅋㅋㅋㅋㅋㅋㅋㅋㅋㅋㅋㅋㅋㅋㅋㅋㅋㅋㅋㅋㅋ ', '오빠 컨셉인데 쫄은 것 같은.... ', '아 너무 웃기다ㅋㅋ ']\n"
     ]
    }
   ],
   "source": [
    "print(comments)"
   ]
  },
  {
   "cell_type": "code",
   "execution_count": 26,
   "metadata": {},
   "outputs": [
    {
     "name": "stdout",
     "output_type": "stream",
     "text": [
      "['가깝', '없', '가깝', '느끼', '지', '않']\n"
     ]
    }
   ],
   "source": [
    "def getNVM_lemma(text):\n",
    "    tokenizer = MeCab.Tagger()\n",
    "    parsed = tokenizer.parse(text)\n",
    "    word_tag = [w for w in parsed.split(\"\\n\")]\n",
    "    pos = []\n",
    "    tags = ['NNG', 'NNP', 'VV', 'VA', 'VX', 'VCP', 'VCN']\n",
    "    for word_ in word_tag[:-2]:\n",
    "        word = word_.split(\"\\t\")\n",
    "        tag = word[1].split(\",\")\n",
    "        if(tag[0] in tags):\n",
    "            pos.append(word[0])\n",
    "        elif('+' in tag[0]): #단어가 여러 형태소로 구성된 경우\n",
    "            if('VV' in tag[0] or 'VA' in tag[0] or 'VX' in tag[0]):\n",
    "                t = tag[-1].split('/')[0]\n",
    "                pos.append(t)\n",
    "    return pos\n",
    "\n",
    "def main():\n",
    "    s = '우리는 가까워질 수 없기 때문에 가깝게 느껴지지 않는다'\n",
    "    print(getNVM_lemma(s))\n",
    "    \n",
    "main()"
   ]
  },
  {
   "cell_type": "code",
   "execution_count": 30,
   "metadata": {},
   "outputs": [
    {
     "name": "stdout",
     "output_type": "stream",
     "text": [
      "['오', '찾', '배달', '오', '남호연', '작', '뿌리', '없', '나무', '이야기', '원조', '흔하', '남매', '고품격', '거지', '강남', '거지', '남자', '일제', '강점기', '모질', '고문', '굴하', '않', '역사', '속', '그날', '공부', '하', '싶', '보', '문', '이과', '윤화', '민기', '쌤', '좋', '하', '민기', '쌤', '학교', '다니', '하', '호', '찬', '오빠', '기다리', '오빠', '하', '남자', '두근거리', '때', '남자', '심장', '인생', '회차', '윤화']\n",
      "['코너', '레전드', '홍윤화', '대사', '실수', '하', '김민기', '오빠', '틀리', '하', '하', '김민기', '틀리', '하']\n",
      "['오', '찾', '뿌리', '없', '나무', '남자', '윤화', '재밌']\n",
      "['김민기', '나쁘', '따르', '하', '오빠', '콩', '홍윤화', '오빠', '콩', '나', '오빠', '잡', '가지', '바닥', '놓', '밀대', '밀', '가지', '오빠', '화살표', '붙이', '놓', '펌프', '만들', '가지', '다단', '단다라', '단다라', '따', '하', '좋', '달성']\n",
      "['보', '출구']\n",
      "['오빠', '콩', '오빠', '잡', '가지', '바닥', '놓', '밀대', '상', '밀', '가지', '오빠', '화살표', '묻히', '펌프', '만들', '따', '하']\n",
      "['웃']\n",
      "['이때', '모르', '남매', '부부', '바뀌', '모르', '그러', '때', '사귀', '사이', '연기력', '박수']\n",
      "['행사장', '풍선']\n",
      "['김민기', '나쁘', '따르', '하', '오빠', '코', '옹', '홍윤화', '오빠', '코', '옹', '하', '나', '오빠', '잡', '가지', '바닥', '놓', '밀대', '밀', '가지', '오빠', '화살표', '붙이', '놓', '펌프', '만들', '가지', '다단', '단다라', '단다라', '따', '하']\n",
      "['행사', '풍선', '하', '풍선', '댄스', '미치']\n",
      "['웃기']\n",
      "['말', '센트']\n",
      "['게', '속', '누르', '보']\n",
      "['드라마', '속', '회장', '끄', '트']\n",
      "['시작', '웃']\n",
      "['끝내', '주', '대박', '이']\n",
      "['행사장', '풍선']\n",
      "['우야']\n",
      "['말투', '진심', '같', '오']\n",
      "['웃기', '와중', '움직이']\n",
      "['같']\n",
      "['윤화', '일진', '같', '좋', '감사', '좋', '감사', '좋', '감사', '좋', '감사', '좋', '감사', '좋', '감사', '좋', '감사', '좋', '감사', '좋', '감사', '좋', '감사', '좋', '감사', '좋', '감사', '하', '않', '되']\n",
      "['귀엽']\n",
      "['윤화', '귀엽', '웃', '닼', '동작', '어떡하', '하']\n",
      "['행사장', '풍선', '따', '따', '따']\n",
      "['분', '풍선', '춤', '똑같', '겁나', '웃기', '시리즈', '보', '징']\n",
      "['뽀로로', '춤', '오', '하트', '감사']\n",
      "[]\n",
      "['윤화', '캐릭', '옛날', '개그야', '그렇', '제성', '맡', '캐릭', '개재']\n",
      "['얼굴', '평온', '푸', '덛', '하', '겁나', '커', '웡']\n",
      "[]\n",
      "['도']\n",
      "['김민기', '개그맨', '이', '옛날', '모르', '보', '사귀', '사이', '크', '눈치', '이']\n",
      "['윤화', '누나', '살', '빼', '살', '있', '때', '귀여우', '셩']\n",
      "['흔하', '남매', '도', '흔하', '남매', '개그', '커플', '인대', '으뜸', '고백']\n",
      "['홍윤화', '겨', '사귀', '몰르']\n",
      "['재밌']\n",
      "['순간', '씨', '인줄']\n",
      "['끌리', '오', '뿜']\n",
      "['웃', '윤화']\n",
      "['귀여']\n",
      "['윤화', '당황', '않', '무섭', '손', '문', '열']\n",
      "['열', '하', '때', '콜라', '뿜']\n",
      "['오', '찾', '최애', '윤화', '주', '버섯', '돌', '꾸']\n",
      "['소']\n",
      "['ㅈ', 'ㄷ']\n",
      "['ㄹ', '똑같']\n",
      "['아프', '같', '소리', 'ㄷ', 'ㄷ']\n",
      "['홍윤화', '언니', '귀엽']\n",
      "['개', '귀엽']\n",
      "['버릇']\n",
      "['하', '똑같']\n",
      "['예전', '보', '치과', '가', '때', '하', '알']\n",
      "['사이렌', '인줄']\n",
      "['똑같']\n",
      "['윤화', '유치원']\n",
      "[]\n",
      "['오빠', '콩', '하', '잡', '주', '바닥', '놓', '밀대', '밀', '가지', '오빠', '화살표', '퍼플', '하']\n",
      "[]\n",
      "['초', '웃', '닼']\n",
      "[]\n",
      "['오']\n",
      "['언니']\n",
      "['초', '웃기']\n",
      "['오빠', '컨셉', '쫄', '같']\n",
      "['웃기']\n"
     ]
    }
   ],
   "source": [
    "morphemes = []\n",
    "for comment in comments:\n",
    "    comment_morph = getNVM_lemma(comment)\n",
    "    print(comment_morph)\n",
    "    morphemes += comment_morph"
   ]
  },
  {
   "cell_type": "code",
   "execution_count": 47,
   "metadata": {},
   "outputs": [
    {
     "name": "stdout",
     "output_type": "stream",
     "text": [
      "[('하', 23), ('오빠', 17), ('좋', 14), ('감사', 13), ('윤화', 11), ('가지', 9), ('오', 8), ('보', 6), ('놓', 6), ('따', 6), ('풍선', 6), ('때', 5), ('홍윤화', 5), ('김민기', 5), ('웃', 5), ('웃기', 5), ('같', 5), ('남매', 4), ('남자', 4), ('콩', 4), ('잡', 4), ('바닥', 4), ('밀대', 4), ('밀', 4), ('화살표', 4), ('단다라', 4), ('귀엽', 4), ('똑같', 4), ('찾', 3), ('흔하', 3), ('않', 3), ('속', 3), ('펌프', 3), ('만들', 3), ('모르', 3), ('사귀', 3), ('행사장', 3), ('주', 3), ('이', 3), ('ㄷ', 3), ('뿌리', 2), ('없', 2), ('나무', 2), ('거지', 2), ('문', 2), ('민기', 2), ('쌤', 2), ('틀리', 2), ('재밌', 2), ('나쁘', 2), ('따르', 2), ('나', 2), ('붙이', 2), ('다단', 2), ('사이', 2), ('코', 2), ('옹', 2), ('닼', 2), ('춤', 2), ('겁나', 2), ('캐릭', 2), ('옛날', 2), ('도', 2), ('살', 2), ('인줄', 2), ('뿜', 2), ('열', 2), ('언니', 2), ('초', 2), ('배달', 1), ('남호연', 1), ('작', 1), ('이야기', 1), ('원조', 1), ('고품격', 1), ('강남', 1), ('일제', 1), ('강점기', 1), ('모질', 1), ('고문', 1), ('굴하', 1), ('역사', 1), ('그날', 1), ('공부', 1), ('싶', 1), ('이과', 1), ('학교', 1), ('다니', 1), ('호', 1), ('찬', 1), ('기다리', 1), ('두근거리', 1), ('심장', 1), ('인생', 1), ('회차', 1), ('코너', 1), ('레전드', 1), ('대사', 1), ('실수', 1), ('달성', 1), ('출구', 1), ('상', 1), ('묻히', 1), ('이때', 1), ('부부', 1), ('바뀌', 1), ('그러', 1), ('연기력', 1), ('박수', 1), ('행사', 1), ('댄스', 1), ('미치', 1), ('말', 1), ('센트', 1), ('게', 1), ('누르', 1), ('드라마', 1), ('회장', 1), ('끄', 1), ('트', 1), ('시작', 1), ('끝내', 1), ('대박', 1), ('우야', 1), ('말투', 1), ('진심', 1), ('와중', 1), ('움직이', 1), ('일진', 1), ('되', 1), ('동작', 1), ('어떡하', 1), ('분', 1), ('시리즈', 1), ('징', 1), ('뽀로로', 1), ('하트', 1), ('개그야', 1), ('그렇', 1), ('제성', 1), ('맡', 1), ('개재', 1), ('얼굴', 1), ('평온', 1), ('푸', 1), ('덛', 1), ('커', 1), ('웡', 1), ('개그맨', 1), ('크', 1), ('눈치', 1), ('누나', 1), ('빼', 1), ('있', 1), ('귀여우', 1), ('셩', 1), ('개그', 1), ('커플', 1), ('인대', 1), ('으뜸', 1), ('고백', 1), ('겨', 1), ('몰르', 1), ('순간', 1), ('씨', 1), ('끌리', 1), ('귀여', 1), ('당황', 1), ('무섭', 1), ('손', 1), ('콜라', 1), ('최애', 1), ('버섯', 1), ('돌', 1), ('꾸', 1), ('소', 1), ('ㅈ', 1), ('ㄹ', 1), ('아프', 1), ('소리', 1), ('개', 1), ('버릇', 1), ('예전', 1), ('치과', 1), ('가', 1), ('알', 1), ('사이렌', 1), ('유치원', 1), ('퍼플', 1), ('컨셉', 1), ('쫄', 1)] <class 'list'>\n"
     ]
    }
   ],
   "source": [
    "morpheme_nums = {}\n",
    "for i in morphemes:\n",
    "    if i in morpheme_nums:\n",
    "        morpheme_nums[i] += 1\n",
    "    else:\n",
    "        morpheme_nums.update({i:1})\n",
    "morph_sorted = sorted(morpheme_nums.items(), key=(lambda x:x[1]), reverse = True)\n",
    "print(morph_sorted, type(morph_sorted))"
   ]
  },
  {
   "cell_type": "code",
   "execution_count": 68,
   "metadata": {},
   "outputs": [
    {
     "name": "stdout",
     "output_type": "stream",
     "text": [
      "['NanumSquare_ac']\n"
     ]
    },
    {
     "data": {
      "text/plain": [
       "<BarContainer object of 20 artists>"
      ]
     },
     "execution_count": 68,
     "metadata": {},
     "output_type": "execute_result"
    },
    {
     "data": {
      "image/png": "[encoded data removed]",
      "text/plain": [
       "<Figure size 864x432 with 1 Axes>"
      ]
     },
     "metadata": {
      "needs_background": "light"
     },
     "output_type": "display_data"
    }
   ],
   "source": [
    "top20_keys = list(itertools.islice(morph_sorted, 20))\n",
    "morph_top20 = {i: morph_sorted[i] for i in top20_keys}\n",
    "\n",
    "plt.rc('font', family='NanumSquare_ac') # For Windows\n",
    "print(plt.rcParams['font.family'])\n",
    "\n",
    "fig = plt.figure(figsize = (12,6))\n",
    "\n",
    "ax = fig.add_subplot(111)\n",
    "\n",
    "ax.bar(*zip(*morph_sorted.items()))"
   ]
  },
  {
   "cell_type": "code",
   "execution_count": null,
   "metadata": {},
   "outputs": [],
   "source": []
  }
 ],
 "metadata": {
  "kernelspec": {
   "display_name": "Python 3",
   "language": "python",
   "name": "python3"
  },
  "language_info": {
   "codemirror_mode": {
    "name": "ipython",
    "version": 3
   },
   "file_extension": ".py",
   "mimetype": "text/x-python",
   "name": "python",
   "nbconvert_exporter": "python",
   "pygments_lexer": "ipython3",
   "version": "3.7.7"
  }
 },
 "nbformat": 4,
 "nbformat_minor": 4
}
