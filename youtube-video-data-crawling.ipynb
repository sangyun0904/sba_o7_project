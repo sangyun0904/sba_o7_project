{
 "cells": [
  {
   "cell_type": "code",
   "execution_count": 1,
   "metadata": {},
   "outputs": [],
   "source": [
    "import requests \n",
    "import datetime as dt\n",
    "import re \n",
    "import pandas as pd \n",
    "import time \n",
    "import json                                                                               \n",
    "import urllib.request #\n",
    "from bs4 import BeautifulSoup as bs\n",
    "from selenium import webdriver \n",
    "from datetime import datetime            \n",
    "from selenium.webdriver.chrome.options import Options\n",
    "from selenium.webdriver.common.keys import Keys"
   ]
  },
  {
   "cell_type": "code",
   "execution_count": 2,
   "metadata": {},
   "outputs": [],
   "source": [
    "driver = webdriver.Chrome('./chromedriver.exe')              # chrome창을 띄움, Mac은 .exe 빼고 실행\n",
    "driver.implicitly_wait(2)\n",
    "driver.get(\"https://www.youtube.com/\")                                                                     # youtube창을 띄움\n",
    "driver.implicitly_wait(2)\n",
    "# driver.maximize_window()\n",
    "driver.execute_script(\"window.scrollTo(0, window.scrollY + 300)\")"
   ]
  },
  {
   "cell_type": "code",
   "execution_count": 3,
   "metadata": {},
   "outputs": [],
   "source": [
    "# 페이지를 내리는 함수를 만듬\n",
    "def pagedown(num):\n",
    "    num_of_pagedowns = num \n",
    "    body = driver.find_element_by_tag_name('body')\n",
    "    while num_of_pagedowns:\n",
    "        body.send_keys(Keys.END)\n",
    "        time.sleep(2)     \n",
    "        num_of_pagedowns -= 1"
   ]
  },
  {
   "cell_type": "code",
   "execution_count": 4,
   "metadata": {},
   "outputs": [],
   "source": [
    "def ScrollDowntoOneYear():\n",
    "    driver.set_window_size(930,700)\n",
    "    body = driver.find_element_by_tag_name('body')\n",
    "    n = 0\n",
    "    while True:\n",
    "        body.send_keys(Keys.END)\n",
    "        time.sleep(2)\n",
    "        page = driver.page_source\n",
    "        soup = bs(page, 'lxml')\n",
    "        all_videos = soup.find_all(id='dismissable')\n",
    "        for i in all_videos:\n",
    "            texts = i.find('div',{'id':'metadata'}).find_all('span')\n",
    "            for j in texts:\n",
    "                if re.findall(\"1년 전\", j.text) == ['1년 전']:\n",
    "                    return soup.find_all(id='dismissable')\n",
    "                elif re.findall(\"2년 전\", j.text) == ['2년 전']:\n",
    "                    return soup.find_all(id='dismissable')"
   ]
  },
  {
   "cell_type": "code",
   "execution_count": 5,
   "metadata": {},
   "outputs": [],
   "source": [
    "def GetVideoUrls(all_videos):\n",
    "    video_url = []\n",
    "    for i in all_videos:\n",
    "        texts = i.find('div',{'id':'metadata'}).find_all('span')\n",
    "        for j in texts:\n",
    "            if re.findall(\"1년 전\", j.text) == ['1년 전']:\n",
    "                return video_url\n",
    "            if re.findall(\"2년 전\", j.text) == ['2년 전']:\n",
    "                return video_url\n",
    "        url = base_url + i.find('a',{'id':'thumbnail'})['href']\n",
    "        video_url.append(url)"
   ]
  },
  {
   "cell_type": "code",
   "execution_count": 18,
   "metadata": {},
   "outputs": [],
   "source": [
    "def GetComment():\n",
    "    try:\n",
    "        comment = driver.find_element_by_xpath('//*[@id=\"count\"]/yt-formatted-string').text\n",
    "        return comment\n",
    "    except:\n",
    "        return 'NaN'\n",
    "    \n",
    "def GetLikes():\n",
    "    try:\n",
    "        sourcecode = driver.page_source\n",
    "        html = bs(sourcecode, 'html.parser')\n",
    "        likes_num = html.find('yt-formatted-string',{'id':\"text\",'class':\"style-scope ytd-toggle-button-renderer style-text\",'aria-label':re.compile('좋아요 ')})['aria-label']\n",
    "        return likes_num\n",
    "    except:\n",
    "        return 'NaN'\n",
    "    \n",
    "def GetDislikes():\n",
    "    try:\n",
    "        sourcecode = driver.page_source\n",
    "        html = bs(sourcecode, 'html.parser')\n",
    "        unlikes_num = html.find('yt-formatted-string',{'id':'text','class':'style-scope ytd-toggle-button-renderer style-text','aria-label':re.compile('싫어요 ')})['aria-label']\n",
    "        return unlikes_num\n",
    "    except:\n",
    "        return 'NaN'"
   ]
  },
  {
   "cell_type": "code",
   "execution_count": 19,
   "metadata": {},
   "outputs": [],
   "source": [
    "def CreateVideosInfoData(video_url, title_data, i):\n",
    "    for k in video_url:\n",
    "        driver.get(k)\n",
    "        pagedown(3)\n",
    "        time.sleep(2)\n",
    "\n",
    "        title = driver.find_element_by_css_selector('#container > h1 > yt-formatted-string').text    \n",
    "        view = driver.find_element_by_css_selector('#count > yt-view-count-renderer > span.view-count.style-scope.yt-view-count-renderer').text\n",
    "        upload_date = driver.find_element_by_css_selector('#date > yt-formatted-string').text\n",
    "\n",
    "        comment = GetComment()\n",
    "\n",
    "        likes_num = GetLikes()\n",
    "        #싫어요수t\n",
    "        unlikes_num = GetDislikes()\n",
    "\n",
    "        insert_data = pd.DataFrame({'title_list':[title],\n",
    "                                    'view':[view],\n",
    "                                    'upload_date':[upload_date],\n",
    "                                    'comment':[comment],\n",
    "                                    'likes_num':[likes_num],\n",
    "                                    'unlikes_num':[unlikes_num]})\n",
    "\n",
    "        title_data = title_data.append(insert_data)\n",
    "    \n",
    "    title_data.to_csv(path_or_buf = f'./{i}.csv',\n",
    "                      header = True,\n",
    "                      index = False,\n",
    "                      encoding = 'utf-8-sig')"
   ]
  },
  {
   "cell_type": "code",
   "execution_count": 28,
   "metadata": {},
   "outputs": [],
   "source": [
    "channels = ['LG전자 LG Electronics korea','ncsoft',\n",
    "    '현대자동차'] # 자신이 맡은 채널 리스트 안에 넗고 실행\n",
    "\n",
    "for i in channels:\n",
    "    \n",
    "    title_data = pd.DataFrame({'title_list':[],\n",
    "                               'view':[],\n",
    "                               'upload_date':[],\n",
    "                               'comment':[],\n",
    "                               'likes_num':[],\n",
    "                               'unlikes_num':[]})\n",
    "    \n",
    "    base_url = 'http://www.youtube.com'\n",
    "    \n",
    "    search = driver.find_element_by_name(\"search_query\")                                                    \n",
    "    search.clear()                                                                                          \n",
    "    search.send_keys(i)\n",
    "    search.submit()\n",
    "    driver.find_element_by_id(\"avatar\").click()\n",
    "    time.sleep(1.5)\n",
    "    driver.find_element_by_xpath('//*[@id=\"tabsContent\"]/paper-tab[2]/div').click()\n",
    "    driver.get(driver.current_url)\n",
    "    \n",
    "    all_videos = ScrollDowntoOneYear()\n",
    "    video_url = GetVideoUrls(all_videos)\n",
    "    CreateVideosInfoData(video_url, title_data, i)\n",
    "    "
   ]
  },
  {
   "cell_type": "code",
   "execution_count": null,
   "metadata": {},
   "outputs": [],
   "source": []
  }
 ],
 "metadata": {
  "kernelspec": {
   "display_name": "Python 3",
   "language": "python",
   "name": "python3"
  },
  "language_info": {
   "codemirror_mode": {
    "name": "ipython",
    "version": 3
   },
   "file_extension": ".py",
   "mimetype": "text/x-python",
   "name": "python",
   "nbconvert_exporter": "python",
   "pygments_lexer": "ipython3",
   "version": "3.7.7"
  }
 },
 "nbformat": 4,
 "nbformat_minor": 4
}
